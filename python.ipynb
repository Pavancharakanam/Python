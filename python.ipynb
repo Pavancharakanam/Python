{
 "cells": [
  {
   "cell_type": "code",
   "execution_count": null,
   "metadata": {},
   "outputs": [],
   "source": [
    "def reverse(value):\n",
    "    output = value[::-1]\n",
    "    return output\n",
    "\n",
    "string = reverse(\"hello\")\n",
    "print(string)"
   ]
  },
  {
   "cell_type": "code",
   "execution_count": null,
   "metadata": {},
   "outputs": [],
   "source": [
    "import csv\n",
    "\n",
    "with open(r'C:\\Users\\pavan\\OneDrive\\Desktop\\DataEng\\Python\\california_housing_test.csv', mode = 'r') as file:\n",
    "    data = csv.reader(file)\n",
    "    \n",
    "    with open('output.csv', mode = 'w') as output_file:\n",
    "        output_writer=csv.writer(output_file,delimiter='-')\n",
    "        for rec in data:\n",
    "            output_writer.writerow(rec)\n",
    "\n",
    "   \n",
    "file.close()\n",
    "output_file.close()\n"
   ]
  },
  {
   "cell_type": "code",
   "execution_count": null,
   "metadata": {},
   "outputs": [],
   "source": [
    "import pandas as pd\n",
    "\n",
    "df = pd.read_csv('output.csv')\n",
    "\n",
    "# print(\"Raw data\\n\",df.to_string())\n",
    "\n",
    "# new_df = df.dropna()\n",
    "# print(\"altered data:\\n\",new_df.to_string())\n",
    "\n",
    "# new_df = df.fillna('filled')\n",
    "# print(\"new data\\n\", new_df)\n",
    "\n",
    "#df['Age'].fillna(100, inplace=True)\n",
    "# print(\"tranformed data\\n\",df)\n",
    "\n",
    "avg_age = df['Age'].add_suffix('|')\n",
    "print(avg_age.sort_values(ascending=True))"
   ]
  },
  {
   "cell_type": "code",
   "execution_count": 120,
   "metadata": {},
   "outputs": [
    {
     "name": "stdout",
     "output_type": "stream",
     "text": [
      "data:\n",
      "    Id  Salary\n",
      "0  12     900\n",
      "1   2     200\n",
      "2   3     300\n",
      "3   9     300\n",
      "length of data: 4\n",
      "0    900\n",
      "2    300\n",
      "3    300\n",
      "1    200\n",
      "Name: Salary, dtype: int64\n",
      "There is no 20 highest salary\n"
     ]
    }
   ],
   "source": [
    "def nth(data,n):\n",
    "    \n",
    "    df = pd.DataFrame(data,columns=['Id', 'Salary'])\n",
    "    print(\"data:\\n\",df)\n",
    "    print(\"length of data:\",len(df))\n",
    "    \n",
    "    sorted_data = df['Salary'].sort_values(ascending=False)\n",
    "    print(sorted_data)\n",
    "    \n",
    "    if len(sorted_data)<n:\n",
    "        print(\"There is no {} highest salary\".format(n))\n",
    "    else:\n",
    "        print('{} highest salary is:'.format(n),sorted_data.iloc[n])\n",
    "\n",
    "\n",
    "data = [[12, 900], [2, 200], [3, 300],[9,300]]\n",
    "result = nth(data,20)\n"
   ]
  },
  {
   "cell_type": "code",
   "execution_count": null,
   "metadata": {},
   "outputs": [],
   "source": []
  }
 ],
 "metadata": {
  "kernelspec": {
   "display_name": "Python 3",
   "language": "python",
   "name": "python3"
  },
  "language_info": {
   "codemirror_mode": {
    "name": "ipython",
    "version": 3
   },
   "file_extension": ".py",
   "mimetype": "text/x-python",
   "name": "python",
   "nbconvert_exporter": "python",
   "pygments_lexer": "ipython3",
   "version": "3.13.0"
  }
 },
 "nbformat": 4,
 "nbformat_minor": 2
}
