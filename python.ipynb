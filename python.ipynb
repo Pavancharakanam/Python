{
 "cells": [
  {
   "cell_type": "code",
   "execution_count": null,
   "metadata": {},
   "outputs": [],
   "source": [
    "def reverse(value):\n",
    "    output = value[::-1]\n",
    "    return output\n",
    "\n",
    "string = reverse(\"hello\")\n",
    "print(string)"
   ]
  },
  {
   "cell_type": "code",
   "execution_count": null,
   "metadata": {},
   "outputs": [],
   "source": [
    "import csv\n",
    "\n",
    "with open(r'C:\\Users\\pavan\\OneDrive\\Desktop\\DataEng\\Python\\california_housing_test.csv', mode = 'r') as file:\n",
    "    data = csv.reader(file)\n",
    "    \n",
    "    with open('output.csv', mode = 'w') as output_file:\n",
    "        output_writer=csv.writer(output_file,delimiter='-')\n",
    "        for rec in data:\n",
    "            output_writer.writerow(rec)\n",
    "\n",
    "   \n",
    "file.close()\n",
    "output_file.close()\n"
   ]
  },
  {
   "cell_type": "code",
   "execution_count": null,
   "metadata": {},
   "outputs": [],
   "source": [
    "import pandas as pd\n",
    "\n",
    "df = pd.read_csv('output.csv')\n",
    "\n",
    "# print(\"Raw data\\n\",df.to_string())\n",
    "\n",
    "# new_df = df.dropna()\n",
    "# print(\"altered data:\\n\",new_df.to_string())\n",
    "\n",
    "# new_df = df.fillna('filled')\n",
    "# print(\"new data\\n\", new_df)\n",
    "\n",
    "#df['Age'].fillna(100, inplace=True)\n",
    "# print(\"tranformed data\\n\",df)\n",
    "\n",
    "avg_age = df['Age'].add_suffix('|')\n",
    "print(avg_age.sort_values(ascending=True))"
   ]
  },
  {
   "cell_type": "code",
   "execution_count": null,
   "metadata": {},
   "outputs": [],
   "source": [
    "def nth(data,n):\n",
    "    \n",
    "    df = pd.DataFrame(data,columns=['Id', 'Salary'])\n",
    "    print(\"data:\\n\",df)\n",
    "    print(\"length of data:\",len(df))\n",
    "    \n",
    "    sorted_data = df['Salary'].sort_values(ascending=False)\n",
    "    print(sorted_data)\n",
    "    \n",
    "    if len(sorted_data)<n:\n",
    "        print(\"There is no {} highest salary\".format(n))\n",
    "    else:\n",
    "        print('{} highest salary is:'.format(n),sorted_data.iloc[n])\n",
    "\n",
    "\n",
    "data = [[12, 900], [2, 200], [3, 300],[9,300]]\n",
    "result = nth(data,20)\n"
   ]
  },
  {
   "cell_type": "code",
   "execution_count": null,
   "metadata": {},
   "outputs": [],
   "source": [
    "data = {'Department': ['Sales', 'Sales', 'HR', 'HR', 'Engineering', 'Engineering'],\n",
    " 'Salary': [60000, 80000, 75000, 65000, 72000, 90000]}\n",
    "df = pd.DataFrame(data)\n",
    "\n",
    "df = df.groupby('Department')['Salary'].max().reset_index()\n",
    "\n",
    "df = df[df['Salary']> 82000]\n",
    "\n",
    "print(df)"
   ]
  },
  {
   "cell_type": "code",
   "execution_count": null,
   "metadata": {},
   "outputs": [],
   "source": [
    "import numpy as np\n",
    "\n",
    "dt = [1,2,3,4,5]\n",
    "\n",
    "arr = np.zeros(5)\n",
    "print(arr)"
   ]
  },
  {
   "cell_type": "code",
   "execution_count": null,
   "metadata": {},
   "outputs": [
    {
     "name": "stdout",
     "output_type": "stream",
     "text": [
      "1\n"
     ]
    }
   ],
   "source": [
    "import psycopg2\n",
    "import pandas as pd\n",
    "import csv\n",
    "\n",
    "    \n",
    "cursor = None \n",
    "connection = None \n",
    "country=[]\n",
    "\n",
    "try:\n",
    "    connection = psycopg2.connect(database=\"postgres\", user=\"postgres\", password=\"root\", host='192.168.5.56', port=5432)\n",
    "    cursor = connection.cursor()\n",
    "\n",
    "    #sql section \n",
    "    sel_script = ''' select * from country; '''\n",
    "    cursor.execute(sel_script)\n",
    "    rows = cursor.fetchall()\n",
    "    \n",
    "    #sql to Data Frame\n",
    "    df = pd.DataFrame(rows)\n",
    "    df = df.sort_values(by=0,ascending=True)\n",
    "    limit = df.__len__()    \n",
    "    \n",
    "    #output section \n",
    "    with open(\"country.txt\",mode = 'w') as of:\n",
    "        of_writer=csv.writer(of,delimiter='\\n')\n",
    "        for i in range(0,limit-1):\n",
    "            x=df[i]\n",
    "            x= x.str.upper()\n",
    "            of_writer.writerow(x)\n",
    "\n",
    "    print(df)\n",
    "    connection.commit()\n",
    "    \n",
    "except Exception as error:\n",
    "    print(error)\n",
    "finally:\n",
    "    if cursor and connection is not None:\n",
    "        of.close()\n",
    "        cursor.close()\n",
    "        connection.close()"
   ]
  }
 ],
 "metadata": {
  "kernelspec": {
   "display_name": "base",
   "language": "python",
   "name": "python3"
  },
  "language_info": {
   "codemirror_mode": {
    "name": "ipython",
    "version": 3
   },
   "file_extension": ".py",
   "mimetype": "text/x-python",
   "name": "python",
   "nbconvert_exporter": "python",
   "pygments_lexer": "ipython3",
   "version": "3.11.7"
  }
 },
 "nbformat": 4,
 "nbformat_minor": 2
}
